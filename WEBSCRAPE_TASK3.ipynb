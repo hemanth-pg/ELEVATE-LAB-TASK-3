{
  "nbformat": 4,
  "nbformat_minor": 0,
  "metadata": {
    "colab": {
      "provenance": []
    },
    "kernelspec": {
      "name": "python3",
      "display_name": "Python 3"
    },
    "language_info": {
      "name": "python"
    }
  },
  "cells": [
    {
      "cell_type": "code",
      "execution_count": 1,
      "metadata": {
        "id": "gTgBCrdaGkjz"
      },
      "outputs": [],
      "source": [
        "import requests\n",
        "from bs4 import BeautifulSoup"
      ]
    },
    {
      "cell_type": "code",
      "source": [
        "URL = \"https://www.bbc.com/news\""
      ],
      "metadata": {
        "id": "KO0aHqQJGsge"
      },
      "execution_count": 16,
      "outputs": []
    },
    {
      "cell_type": "code",
      "source": [
        "response = requests.get(URL)"
      ],
      "metadata": {
        "id": "bA-hdtdZGxhu"
      },
      "execution_count": 17,
      "outputs": []
    },
    {
      "cell_type": "code",
      "source": [
        "if response.status_code == 200:\n",
        "    soup = BeautifulSoup(response.text, 'html.parser')\n",
        "    headlines = []\n",
        "\n",
        "    for tag in soup.find_all(\"sc-9d830f2a-1 dOyfhs\"):\n",
        "        title = tag.get_text(strip=True)\n",
        "        if title:\n",
        "            headlines.append(title)\n",
        "\n",
        "    with open(\"headlines.txt\", \"w\", encoding=\"utf-8\") as file:\n",
        "            for i, headline in enumerate(headlines, 1):\n",
        "                file.write(f\"{i}. {headline}\\n\")\n",
        "\n",
        "    print(f\"{len(headlines)} headlines saved to 'headlines.txt'\")\n",
        "else:\n",
        "    print(\"Failed to retrieve the news page. Status code:\", response.status_code)"
      ],
      "metadata": {
        "colab": {
          "base_uri": "https://localhost:8080/"
        },
        "id": "xi6XTut7G1p1",
        "outputId": "d253b62b-1fd5-4358-93e4-915d135136a6"
      },
      "execution_count": 18,
      "outputs": [
        {
          "output_type": "stream",
          "name": "stdout",
          "text": [
            "0 headlines saved to 'headlines.txt'\n"
          ]
        }
      ]
    }
  ]
}